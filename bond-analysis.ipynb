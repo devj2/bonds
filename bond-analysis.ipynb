{
 "cells": [
  {
   "attachments": {},
   "cell_type": "markdown",
   "metadata": {},
   "source": [
    "## Bond Analysis\n",
    "\n",
    "### Present value of a fixed-coupon bond\n",
    "\n",
    "The present value of a bond.\n",
    "Assumes discrete componding of interest. "
   ]
  },
  {
   "cell_type": "code",
   "execution_count": 1,
   "metadata": {},
   "outputs": [],
   "source": [
    "def value(r, term, principal, coupon_rate):\n",
    "    coupon = coupon_rate * principal\n",
    "    discounted_coupons = sum([coupon/pow(1+r, t) for t in range(1,term+1)])\n",
    "    discounted_term = principal/pow(1+r, term)\n",
    "    return discounted_coupons + discounted_term"
   ]
  },
  {
   "cell_type": "code",
   "execution_count": 2,
   "metadata": {},
   "outputs": [
    {
     "name": "stdout",
     "output_type": "stream",
     "text": [
      "118.04555296627042\n",
      "99.99999999999997\n"
     ]
    }
   ],
   "source": [
    "print(value(0.01, 20, 100, 0.02))\n",
    "print(value(0.02, 20, 100, 0.02))"
   ]
  },
  {
   "attachments": {},
   "cell_type": "markdown",
   "metadata": {},
   "source": [
    "### Value of Traded bond\n",
    "\n",
    "The value of a bond at a specific year.\n",
    "Assumes discrete componding of interest. "
   ]
  },
  {
   "cell_type": "code",
   "execution_count": 3,
   "metadata": {},
   "outputs": [],
   "source": [
    "def traded_value(r, tm, term, principal, coupon_rate):\n",
    "    coupon = coupon_rate * principal\n",
    "    discounted_coupons = sum([coupon/pow(1+r, t) for t in range(1, term+1-tm)])\n",
    "    discounted_principal = principal/pow(1+r, term-tm)\n",
    "    return discounted_coupons + discounted_principal"
   ]
  },
  {
   "cell_type": "code",
   "execution_count": 4,
   "metadata": {},
   "outputs": [
    {
     "name": "stdout",
     "output_type": "stream",
     "text": [
      "109.47130453070167\n"
     ]
    }
   ],
   "source": [
    "print(traded_value(0.01, 10, 20, 100, 0.02))"
   ]
  },
  {
   "attachments": {},
   "cell_type": "markdown",
   "metadata": {},
   "source": [
    "### Value of Index-linked bonds\n",
    "\n",
    "The value of an index-linked bond at time point, t. Assumes discrete componding of interest. "
   ]
  },
  {
   "cell_type": "code",
   "execution_count": 5,
   "metadata": {},
   "outputs": [],
   "source": [
    "def index_value(r, term, principal, index_s, index_t, coupon_rate):\n",
    "    ifact_t = index_s / index_t\n",
    "    coupon_t = coupon_rate * principal * ifact_t\n",
    "    discounted_coupons = sum([coupon_t/pow(1+r, i) for i in range(1, term+1)])\n",
    "    discounted_principal = principal/ pow(1+r, term)\n",
    "    return discounted_coupons + discounted_principal"
   ]
  },
  {
   "cell_type": "code",
   "execution_count": 7,
   "metadata": {},
   "outputs": [
    {
     "name": "stdout",
     "output_type": "stream",
     "text": [
      "121.72828686455088\n"
     ]
    }
   ],
   "source": [
    "print(index_value(0.01, 10, 100, 560, 340, 0.02))"
   ]
  }
 ],
 "metadata": {
  "kernelspec": {
   "display_name": "py3",
   "language": "python",
   "name": "python3"
  },
  "language_info": {
   "codemirror_mode": {
    "name": "ipython",
    "version": 3
   },
   "file_extension": ".py",
   "mimetype": "text/x-python",
   "name": "python",
   "nbconvert_exporter": "python",
   "pygments_lexer": "ipython3",
   "version": "3.9.16"
  },
  "orig_nbformat": 4,
  "vscode": {
   "interpreter": {
    "hash": "e91a7fd7d362bc1f15bfc20ec0978e24d736c29fbf3add7321c4f1124585b3bc"
   }
  }
 },
 "nbformat": 4,
 "nbformat_minor": 2
}
